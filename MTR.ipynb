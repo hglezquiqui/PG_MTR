{
  "nbformat": 4,
  "nbformat_minor": 0,
  "metadata": {
    "colab": {
      "provenance": [],
      "include_colab_link": true
    },
    "kernelspec": {
      "name": "python3",
      "display_name": "Python 3"
    },
    "language_info": {
      "name": "python"
    }
  },
  "cells": [
    {
      "cell_type": "markdown",
      "metadata": {
        "id": "view-in-github",
        "colab_type": "text"
      },
      "source": [
        "<a href=\"https://colab.research.google.com/github/hglezquiqui/PG_MTR/blob/main/MTR.ipynb\" target=\"_parent\"><img src=\"https://colab.research.google.com/assets/colab-badge.svg\" alt=\"Open In Colab\"/></a>"
      ]
    },
    {
      "cell_type": "code",
      "execution_count": null,
      "metadata": {
        "colab": {
          "base_uri": "https://localhost:8080/"
        },
        "id": "AiFFgvolAxsr",
        "outputId": "85be48c3-b018-4c51-e268-957c57eaf109"
      },
      "outputs": [
        {
          "output_type": "stream",
          "name": "stdout",
          "text": [
            "Looking in indexes: https://pypi.org/simple, https://us-python.pkg.dev/colab-wheels/public/simple/\n",
            "Collecting amorf\n",
            "  Downloading amorf-0.0.5-py2.py3-none-any.whl (26 kB)\n",
            "Collecting liac-arff>=2.4\n",
            "  Downloading liac-arff-2.5.0.tar.gz (13 kB)\n",
            "Requirement already satisfied: xgboost>=0.9 in /usr/local/lib/python3.7/dist-packages (from amorf) (0.90)\n",
            "Requirement already satisfied: scikit-learn>=0.22 in /usr/local/lib/python3.7/dist-packages (from amorf) (1.0.2)\n",
            "Requirement already satisfied: numpy>=1.17.2 in /usr/local/lib/python3.7/dist-packages (from amorf) (1.21.6)\n",
            "Requirement already satisfied: torch>=1.3.1 in /usr/local/lib/python3.7/dist-packages (from amorf) (1.11.0+cu113)\n",
            "Collecting pyro-ppl>=1.0.0\n",
            "  Downloading pyro_ppl-1.8.1-py3-none-any.whl (718 kB)\n",
            "\u001b[K     |████████████████████████████████| 718 kB 11.8 MB/s \n",
            "\u001b[?25hRequirement already satisfied: tqdm>=4.36 in /usr/local/lib/python3.7/dist-packages (from pyro-ppl>=1.0.0->amorf) (4.64.0)\n",
            "Collecting pyro-api>=0.1.1\n",
            "  Downloading pyro_api-0.1.2-py3-none-any.whl (11 kB)\n",
            "Requirement already satisfied: opt-einsum>=2.3.2 in /usr/local/lib/python3.7/dist-packages (from pyro-ppl>=1.0.0->amorf) (3.3.0)\n",
            "Requirement already satisfied: threadpoolctl>=2.0.0 in /usr/local/lib/python3.7/dist-packages (from scikit-learn>=0.22->amorf) (3.1.0)\n",
            "Requirement already satisfied: scipy>=1.1.0 in /usr/local/lib/python3.7/dist-packages (from scikit-learn>=0.22->amorf) (1.4.1)\n",
            "Requirement already satisfied: joblib>=0.11 in /usr/local/lib/python3.7/dist-packages (from scikit-learn>=0.22->amorf) (1.1.0)\n",
            "Requirement already satisfied: typing-extensions in /usr/local/lib/python3.7/dist-packages (from torch>=1.3.1->amorf) (4.2.0)\n",
            "Building wheels for collected packages: liac-arff\n",
            "  Building wheel for liac-arff (setup.py) ... \u001b[?25l\u001b[?25hdone\n",
            "  Created wheel for liac-arff: filename=liac_arff-2.5.0-py3-none-any.whl size=11732 sha256=ea15902d194df4ba5cf4f728e48372096ddc6a2b4e9f8f559515e2381bccdc71\n",
            "  Stored in directory: /root/.cache/pip/wheels/1f/0f/15/332ca86cbebf25ddf98518caaf887945fbe1712b97a0f2493b\n",
            "Successfully built liac-arff\n",
            "Installing collected packages: pyro-api, pyro-ppl, liac-arff, amorf\n",
            "Successfully installed amorf-0.0.5 liac-arff-2.5.0 pyro-api-0.1.2 pyro-ppl-1.8.1\n"
          ]
        }
      ],
      "source": [
        "!pip install amorf\n"
      ]
    },
    {
      "cell_type": "code",
      "source": [
        "from google.colab import drive\n",
        "drive.mount('/content/drive')"
      ],
      "metadata": {
        "colab": {
          "base_uri": "https://localhost:8080/"
        },
        "id": "ei7J2UxaIgSp",
        "outputId": "9d90420f-368f-43aa-8d2a-6ca2e3609579"
      },
      "execution_count": null,
      "outputs": [
        {
          "output_type": "stream",
          "name": "stdout",
          "text": [
            "Mounted at /content/drive\n"
          ]
        }
      ]
    },
    {
      "cell_type": "code",
      "source": [
        "import os\n",
        "os.chdir('/content/drive/MyDrive/MTR Framework/') "
      ],
      "metadata": {
        "id": "kCu4F5p4IvQY"
      },
      "execution_count": null,
      "outputs": []
    },
    {
      "cell_type": "code",
      "source": [
        "dataset={'name':['wq'],\n",
        "         'output':[14]\n",
        "         }\n",
        "from sklearn.compose import ColumnTransformer\n"
      ],
      "metadata": {
        "id": "04KRb9M1I1cH"
      },
      "execution_count": null,
      "outputs": []
    },
    {
      "cell_type": "code",
      "source": [
        "import amorf.neuralNetRegression as nnr\n",
        "from amorf.metrics import average_relative_root_mean_squared_error as arrmse\n",
        "\n",
        "# for data generation\n",
        "from sklearn.datasets import make_regression\n",
        "from sklearn.model_selection import train_test_split\n",
        "from scipy.io import arff\n",
        "import pandas as pd\n"
      ],
      "metadata": {
        "id": "iaI2Mj9xA5kZ"
      },
      "execution_count": null,
      "outputs": []
    },
    {
      "cell_type": "markdown",
      "source": [
        "# Lectura de ficheros en formato arff"
      ],
      "metadata": {
        "id": "Pp3aIuN3I_Pc"
      }
    },
    {
      "cell_type": "code",
      "source": [
        "from sklearn.preprocessing import StandardScaler\n",
        "def read_mtr_arff(dataset):\n",
        "  dataset_name=dataset['name'][0]\n",
        "  q=dataset['output'][0]\n",
        "  #print(q)\n",
        "  pthTr=dataset_name+'/' + dataset_name+'-train.arff'\n",
        "  xTr=arff.loadarff(pthTr)\n",
        "  df = pd.DataFrame(xTr[0])\n",
        "\n",
        "  XTr = df.iloc[:,:-q]\n",
        "  YTr = df.iloc[:,-q:]\n",
        "  pthTe=dataset_name+'/' + dataset_name+'-test.arff'\n",
        "  xTe=arff.loadarff(pthTe)\n",
        "  df = pd.DataFrame(xTe[0])\n",
        "\n",
        "  XTe = df.iloc[:,:-q]\n",
        "  YTe = df.iloc[:,-q:]\n",
        "  sc = StandardScaler()\n",
        "  XTr=sc.fit_transform(XTr)\n",
        "  XTe=sc.transform(XTe)\n",
        "  YTr=sc.fit_transform(XTr)\n",
        "  YTe=sc.transform(XTe)\n",
        "\n",
        "  \n",
        "  return XTr, XTe, YTr, YTe \n",
        "\n",
        "\n"
      ],
      "metadata": {
        "id": "sW87vLokI-eP"
      },
      "execution_count": null,
      "outputs": []
    },
    {
      "cell_type": "code",
      "source": [
        "\n",
        "X_train, X_test, y_train, y_test = read_mtr_arff(dataset)\n",
        "print(y_train)"
      ],
      "metadata": {
        "id": "yt6507O0BN9b",
        "colab": {
          "base_uri": "https://localhost:8080/"
        },
        "outputId": "c6a0a7dc-f4a7-46f7-f9d5-e17161481266"
      },
      "execution_count": null,
      "outputs": [
        {
          "output_type": "stream",
          "name": "stdout",
          "text": [
            "[[-1.70644062 -0.15549881 -0.45296177 ... -0.34684625 -0.10823761\n",
            "  -0.25753674]\n",
            " [-0.40378739  0.15771494  0.20672875 ... -0.50032645 -0.56271633\n",
            "  -0.57457769]\n",
            " [ 1.0477405  -0.46871255 -0.14570865 ... -0.36603127  0.20541671\n",
            "  -0.17410491]\n",
            " ...\n",
            " [ 0.09866457  1.41056992 -0.62466205 ... -0.13581097  0.42945551\n",
            "  -0.15741854]\n",
            " [ 0.1172739   0.15771494 -1.10361544 ... -0.4619564  -0.44749637\n",
            "  -0.04061398]\n",
            " [-0.99928601  0.78414243 -0.23607722 ... -0.36603127 -0.52430968\n",
            "  -0.40771403]]\n"
          ]
        }
      ]
    },
    {
      "cell_type": "code",
      "source": [],
      "metadata": {
        "id": "A4MAb0Vdz9eb"
      },
      "execution_count": null,
      "outputs": []
    },
    {
      "cell_type": "code",
      "source": [
        "regressor = nnr.NeuralNetRegressor(patience=5, use_gpu=True, training_limit=None) #initialize neural net regressor\n",
        "regressor.fit(X_train, y_train) #fit regressor to training data"
      ],
      "metadata": {
        "colab": {
          "base_uri": "https://localhost:8080/"
        },
        "id": "zbVhpJSgBJeT",
        "outputId": "b2db6409-2bce-4789-bcd4-578838fcd10c"
      },
      "execution_count": null,
      "outputs": [
        {
          "output_type": "stream",
          "name": "stdout",
          "text": [
            "Epoch: 0\n",
            "Validation Error: 1.075676679611206 \n",
            "Train Error: 1.0393671989440918\n",
            "Final Epochs: 45 \n",
            "Final Train Error: 0.6341965198516846\n",
            "Final Validation Error: 0.7306802868843079\n"
          ]
        },
        {
          "output_type": "execute_result",
          "data": {
            "text/plain": [
              "<amorf.neuralNetRegression.NeuralNetRegressor at 0x7f04bcf05c50>"
            ]
          },
          "metadata": {},
          "execution_count": 8
        }
      ]
    },
    {
      "cell_type": "code",
      "source": [
        "print(regressor.loss_fn)\n"
      ],
      "metadata": {
        "id": "W85bjUo3B2ZC",
        "colab": {
          "base_uri": "https://localhost:8080/"
        },
        "outputId": "57a9b467-c8d9-4e92-afaa-c17ceb225af0"
      },
      "execution_count": null,
      "outputs": [
        {
          "output_type": "stream",
          "name": "stdout",
          "text": [
            "MSELoss()\n"
          ]
        }
      ]
    },
    {
      "cell_type": "code",
      "source": [
        "prediction = regressor.predict(X_test) #predict test data\n",
        "print(arrmse(prediction, y_test)) #print error"
      ],
      "metadata": {
        "id": "oJ_Dvi7_BE9q",
        "colab": {
          "base_uri": "https://localhost:8080/"
        },
        "outputId": "ddf8beb3-7c84-4a9d-8c4a-6dc718573f1b"
      },
      "execution_count": null,
      "outputs": [
        {
          "output_type": "stream",
          "name": "stdout",
          "text": [
            "0.7342799973384997\n"
          ]
        }
      ]
    }
  ]
}