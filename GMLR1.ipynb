{
  "nbformat": 4,
  "nbformat_minor": 0,
  "metadata": {
    "colab": {
      "provenance": [],
      "include_colab_link": true
    },
    "kernelspec": {
      "name": "python3",
      "display_name": "Python 3"
    },
    "language_info": {
      "name": "python"
    }
  },
  "cells": [
    {
      "cell_type": "markdown",
      "metadata": {
        "id": "view-in-github",
        "colab_type": "text"
      },
      "source": [
        "<a href=\"https://colab.research.google.com/github/hglezquiqui/PG_MTR/blob/main/GMLR1.ipynb\" target=\"_parent\"><img src=\"https://colab.research.google.com/assets/colab-badge.svg\" alt=\"Open In Colab\"/></a>"
      ]
    },
    {
      "cell_type": "code",
      "execution_count": null,
      "metadata": {
        "colab": {
          "base_uri": "https://localhost:8080/"
        },
        "id": "E2kTzHmZBrza",
        "outputId": "fc7f26b7-4b2f-4e0d-8d66-fb9b4014b9dc"
      },
      "outputs": [
        {
          "output_type": "stream",
          "name": "stdout",
          "text": [
            "Drive already mounted at /content/drive; to attempt to forcibly remount, call drive.mount(\"/content/drive\", force_remount=True).\n"
          ]
        }
      ],
      "source": [
        "from google.colab import drive\n",
        "drive.mount('/content/drive')"
      ]
    },
    {
      "cell_type": "code",
      "source": [
        "import os\n",
        "os.chdir('/content/drive/MyDrive/MTR Framework/') \n",
        "dataset={'name':['edm'],\n",
        "         'output':[2]\n",
        "         }"
      ],
      "metadata": {
        "id": "dibNZvRVfQP7"
      },
      "execution_count": null,
      "outputs": []
    },
    {
      "cell_type": "code",
      "source": [
        "import numpy as np\n",
        "import matplotlib.pyplot as pp\n"
      ],
      "metadata": {
        "id": "Sd9p-nWfCBl4"
      },
      "execution_count": null,
      "outputs": []
    },
    {
      "cell_type": "markdown",
      "source": [
        "# Objective function: f(x) + lambda*norm1(x)"
      ],
      "metadata": {
        "id": "Iq0ywZNGeaOb"
      }
    },
    {
      "cell_type": "code",
      "source": [
        "def obj(A,x,z,b,lamda):\n",
        "    #assert(np.size(x,0)==np.size(A,1) and np.size(A,0) == np.size(b,0) and \\\n",
        "    #np.size(x,1)== np.size(b,1) == 1 and np.isscalar(lamda))\n",
        "    return f(A,z,x,b) + lamda*np.sum(np.sum(np.abs(x)))+ lamda*np.sum(np.sum(np.abs(z)))"
      ],
      "metadata": {
        "id": "R4U3BobveWYX"
      },
      "execution_count": null,
      "outputs": []
    },
    {
      "cell_type": "markdown",
      "source": [
        "# f(x) = (1/2)||Axz-b||^2"
      ],
      "metadata": {
        "id": "hYaCW0tMegur"
      }
    },
    {
      "cell_type": "code",
      "source": [
        "def f(A,z,x,b):\n",
        "    #assert(np.size(x,0)==np.size(A,1) and np.size(A,0) == np.size(b,0))\n",
        "    Ax_b = A.dot(x).dot(z) - b\n",
        "    return 0.5*(np.trace(Ax_b.T.dot(Ax_b)))"
      ],
      "metadata": {
        "id": "qcOcTcgrej5C"
      },
      "execution_count": null,
      "outputs": []
    },
    {
      "cell_type": "markdown",
      "source": [
        "# gradient of f(x) "
      ],
      "metadata": {
        "id": "c7aQiRhBetnV"
      }
    },
    {
      "cell_type": "code",
      "source": [
        "def grf(A,x,z,b):\n",
        "    #assert(np.size(x,0)==np.size(A,1) and np.size(A,0) == np.size(b,0))\n",
        "    return A.T.dot(A.dot(x).dot(z) - b).dot(z.T)"
      ],
      "metadata": {
        "id": "oqspgrEyepR8"
      },
      "execution_count": null,
      "outputs": []
    },
    {
      "cell_type": "code",
      "source": [
        "from numpy.linalg import inv\n",
        "def ini_xk(A,z,b):\n",
        "  x=inv(A.T.dot(A)).dot(A.T).dot(b).dot(z.T).dot(inv(z))\n",
        "  return x"
      ],
      "metadata": {
        "id": "wxgMxPP9AWpV"
      },
      "execution_count": null,
      "outputs": []
    },
    {
      "cell_type": "code",
      "source": [
        "def grfz(A,x,z,b):\n",
        "    #assert(np.size(x,0)==np.size(A,1) and np.size(A,0) == np.size(b,0))\n",
        "    return x.T.dot(A.T).dot(A.dot(x).dot(z) - (b))"
      ],
      "metadata": {
        "id": "xlXdHqCY6zYW"
      },
      "execution_count": null,
      "outputs": []
    },
    {
      "cell_type": "markdown",
      "source": [
        "# Model function evaluated at x and touches f(x) in xk"
      ],
      "metadata": {
        "id": "yXGAeNzUe1jM"
      }
    },
    {
      "cell_type": "code",
      "source": [
        "def m(x,xk,z,A,b,GammaK):\n",
        "    #assert(np.size(xk,0) == np.size(x,0) == np.size(A,1) \\\n",
        "    #and np.size(A,0) == np.size(b,0) and np.isscalar(GammaK))\n",
        "    innerProd = grf(A,xk,z,b).T.dot(x - xk)\n",
        "    xDiff = x - xk\n",
        "    return f(A,z,xk,b) + np.trace(innerProd) + (1.0/(2.0*GammaK))*np.trace(xDiff.T.dot(xDiff))"
      ],
      "metadata": {
        "id": "-9jFQPp1erAi"
      },
      "execution_count": null,
      "outputs": []
    },
    {
      "cell_type": "code",
      "source": [
        "def mz(z,zk,x,A,b,GammaK):\n",
        "    #assert(np.size(xk,0) == np.size(x,0) == np.size(A,1) \\\n",
        "    #and np.size(A,0) == np.size(b,0) and np.isscalar(GammaK))\n",
        "    innerProd = grfz(A,x,z,b).T.dot(z - zk)\n",
        "    xDiff = z - zk\n",
        "    return f(A,zk,x,b) + np.trace(innerProd) + (1.0/(2.0*GammaK))*np.trace(xDiff.T.dot(xDiff))"
      ],
      "metadata": {
        "id": "lh926zIRDWUI"
      },
      "execution_count": null,
      "outputs": []
    },
    {
      "cell_type": "markdown",
      "source": [
        "# Shrinkage or Proximal operation"
      ],
      "metadata": {
        "id": "pO7Pzx_WfCBz"
      }
    },
    {
      "cell_type": "code",
      "source": [
        "def proxNorm1(y,lamda):\n",
        "    #assert(np.size(y,1)==1)\n",
        "    return np.sign(y)*np.maximum(np.zeros(np.shape(y)),np.abs(y)-lamda)"
      ],
      "metadata": {
        "id": "tA-cXtUYCQaA"
      },
      "execution_count": null,
      "outputs": []
    },
    {
      "cell_type": "code",
      "source": [],
      "metadata": {
        "id": "U773AL-VpmXJ"
      },
      "execution_count": null,
      "outputs": []
    },
    {
      "cell_type": "code",
      "source": [
        "from sklearn.preprocessing import StandardScaler\n",
        "import pandas as pd\n",
        "from scipy.io import arff\n",
        "\n",
        "def read_mtr_arff1(dataset):\n",
        "  dataset_name=dataset['name'][0]\n",
        "  q=dataset['output'][0]\n",
        "  #print(q)\n",
        "  pthTr=dataset_name+'/' + dataset_name+'-train.arff'\n",
        "  xTr=arff.loadarff(pthTr)\n",
        "  df = pd.DataFrame(xTr[0])\n",
        "\n",
        "  XTr = df.iloc[:,:-q]\n",
        "  YTr = df.iloc[:,-q:]\n",
        "  pthTe=dataset_name+'/' + dataset_name+'-test.arff'\n",
        "  xTe=arff.loadarff(pthTe)\n",
        "  df = pd.DataFrame(xTe[0])\n",
        "\n",
        "  XTe = df.iloc[:,:-q]\n",
        "  YTe = df.iloc[:,-q:]\n",
        "  #print(YTr)\n",
        "  sc = StandardScaler()\n",
        "  XTr=sc.fit_transform(XTr)\n",
        "  XTe=sc.transform(XTe)\n",
        "  YTr=sc.fit_transform(YTr)\n",
        "  YTe=sc.transform(YTe)\n",
        "\n",
        "  \n",
        "  return XTr, XTe, YTr, YTe "
      ],
      "metadata": {
        "id": "1-eGRfRFe1KM"
      },
      "execution_count": null,
      "outputs": []
    },
    {
      "cell_type": "code",
      "source": [
        "X_train, X_test, y_train, y_test = read_mtr_arff1(dataset)\n",
        "#print(y_train)"
      ],
      "metadata": {
        "id": "5IZJdt0agdot"
      },
      "execution_count": null,
      "outputs": []
    },
    {
      "cell_type": "code",
      "source": [
        "def lasso_pgfit(A,b):\n",
        "  # Define parameters. Size of A is n x p\n",
        "  p = np.size(A,1)\n",
        "  n = np.size(A,0)\n",
        "\n",
        "  kMax = 500   # Number of iteration\n",
        "  beta = 0.75 # decreasing factor for line search\n",
        "  q=np.size(b,1)\n",
        "  r=min(p,q)\n",
        "  # Generate the sparse vector xStar\n",
        "  # and Randomly set 20 elements\n",
        "  \"\"\"\n",
        "  xStar = np.zeros((p,q))\n",
        "  xStar[np.floor(p*np.random.rand(20,q)).astype(np.int)]=1\n",
        "  xStar = xStar*np.random.normal(0,10,(p,q))\n",
        "\n",
        "  # Generate A and b. b = Ax + error\n",
        "  A = np.random.randn(n,p)\n",
        "  b = A.dot(xStar) + np.random.randn(n,q)\n",
        "  \"\"\"\n",
        "  lamda = np.sqrt(2*n*np.log(p)).tolist()\n",
        "  #lamda = 1.\n",
        "\n",
        "  # For Proximal Gradient Descent\n",
        "  zk= np.identity(q)+ 0.01*np.random.rand(r,q)\n",
        "  #xk = np.random.rand(p,r) # Initialize with random\n",
        "  #xk = np.zeros((p,q))      # Initialize with zero\n",
        "  xk=ini_xk(A,zk,b)\n",
        "  # For Accelerated Proximal Gradient Descent    \n",
        "  xk_acc = xk.copy()\n",
        "  yk_acc = xk_acc\n",
        "  tk_acc = 1\n",
        "  zk_acc = zk.copy()\n",
        "  zyk_acc = zk_acc\n",
        "  ztk_acc = 1\n",
        "  stopUpdate_acc = False\n",
        "  Dobj_acc = 0\n",
        "  cri=[]\n",
        "  fobj=[]\n",
        "  \n",
        "  for k in range(kMax):\n",
        "      \n",
        "      # ------------------------- Proximal GD -----------------------------        \n",
        "      Gammak = 0.01\n",
        "      #Gammak = 1/np.linalg.norm(A.T.dot(A))      \n",
        "      \n",
        "      # Line search\n",
        "      while True:\n",
        "          #print ('trying stepsize = ', \"{0:0.2e}\".format(Gammak))\n",
        "          x_kplus1 = xk - Gammak*grf(A,xk,zk,b)        # Gradient Descent (GD) Step\n",
        "\n",
        "          #print(m(x_kplus1,xk,A,b,Gammak))\n",
        "          if f(A,zk,x_kplus1,b) <= m(x_kplus1,xk,zk,A,b,Gammak):\n",
        "              #print ' success'\n",
        "              break\n",
        "          else:\n",
        "              #print ' Fail ',\n",
        "              Gammak = beta*Gammak\n",
        "      x_kplus1 = proxNorm1(x_kplus1,Gammak*lamda)   # Proximal Operation (Shrinkage)\n",
        "      \n",
        "      # Change in the value of objective funtion for this iteration\n",
        "      Dobj = np.linalg.norm(obj(A,x_kplus1,zk,b,lamda) - obj(A,xk,zk,b,lamda))\n",
        "      # print 'k:',k, ' obj = ', obj(A,x_kplus1,b,lamda), 'Change = ',Dobj\n",
        "      \n",
        "      # Update xk\n",
        "      xk = x_kplus1.copy()\n",
        "      # --------------------------------------------------------------------\n",
        "      #===================zUpdate GD Proximal===============================\n",
        "      Gammak = 0.01\n",
        "      #Gammak = 1/np.linalg.norm(A.T.dot(A))      \n",
        "      \n",
        "      # Line search\n",
        "      while True:\n",
        "          #print ('trying stepsize = ', \"{0:0.2e}\".format(Gammak))\n",
        "          z_kplus1 = zk - Gammak*grfz(A,xk,zk,b)        # Gradient Descent (GD) Step\n",
        "\n",
        "          #print(m(x_kplus1,xk,A,b,Gammak))\n",
        "          if f(A,z_kplus1,xk,b) <= mz(z_kplus1,zk,xk,A,b,Gammak):\n",
        "              #print ' success'\n",
        "              break\n",
        "          else:\n",
        "              #print ' Fail ',\n",
        "              Gammak = beta*Gammak\n",
        "      z_kplus1 = proxNorm1(z_kplus1,Gammak*lamda)   # Proximal Operation (Shrinkage)\n",
        "      \n",
        "      # Change in the value of objective funtion for this iteration\n",
        "      Dobjz = np.linalg.norm(obj(A,xk,z_kplus1,b,lamda) - obj(A,xk,zk,b,lamda))\n",
        "      # print 'k:',k, ' obj = ', obj(A,x_kplus1,b,lamda), 'Change = ',Dobj\n",
        "      \n",
        "      # Update xk\n",
        "      zk = z_kplus1.copy()\n",
        "      # --------------------------------------------------------------------\n",
        "\n",
        "\n",
        "      cri.append(obj(A,xk_acc,zk_acc,b,lamda))\n",
        "      fobj.append(obj(A,xk,zk,b,lamda))\n",
        "      # Terminating Condition        \n",
        "      if (min(Dobj,Dobjz) < 1):\n",
        "          break\n",
        "  return xk,zk, cri,fobj\n",
        " "
      ],
      "metadata": {
        "id": "yARiPJIHCY8H"
      },
      "execution_count": null,
      "outputs": []
    },
    {
      "cell_type": "code",
      "source": [
        "import seaborn as sbn\n",
        "xk,zk, cri,fobj=lasso_pgfit(X_train,y_train)\n",
        "\n",
        " "
      ],
      "metadata": {
        "id": "P4Ydujsli1uw"
      },
      "execution_count": null,
      "outputs": []
    },
    {
      "cell_type": "code",
      "source": [
        "# Graphical Display - plot x and reconstructed x\n",
        "pp.figure('Sparse code',figsize=(6,10))\n",
        "pp.clf() \n",
        "\"\"\"       \n",
        "pp.subplot(311)    \n",
        "pp.plot(xStar)\n",
        "pp.title('Original x')\n",
        "\"\"\"\n",
        "pp.subplot(311)\n",
        "#print(xk)\n",
        "sbn.heatmap(xk,annot=True,cmap='YlGnBu')\n",
        "pp.title('Proximal GD Dataset '+dataset['name'][0])\n",
        "pp.subplot(312)\n",
        "sbn.heatmap(zk,annot=True,cmap='YlGnBu')\n",
        "pp.title('Accelerated Proximal GD Dataset '+dataset['name'][0])\n",
        "pp.tight_layout()\n",
        "pp.draw()\n",
        "pp.pause(0.1)\n",
        "#print(xk_acc)\n",
        "# Graphical Display - plot objective function values\n",
        "if len(cri) > 1:\n",
        "    #pp.figure('Objective function values')\n",
        "    #pp.subplot(211)\n",
        "    #pp.scatter(k,-1*np.log(obj(A,xk,b,lamda)),c = 'b')\n",
        "    #pp.scatter(k,-1*np.log(obj(A,xk_acc,b,lamda)),c = 'r')\n",
        "  v= [x for x in range(len(cri))]\n",
        "  pp.scatter(v,cri,c = 'b')\n",
        "  pp.scatter(v,fobj,c = 'r')\n",
        "  pp.title(\\\n",
        "  'Objective Functions '+ dataset['name'][0] +' (Blue = PGD, Red = Accelerated PGD)')\n",
        "  #pp.subplot(212)\n",
        "#            pp.scatter(k,-1*np.log(Dobj),c = 'b')\n",
        "#            pp.scatter(k,-1*np.log(Dobj_acc),c = 'r')\n",
        "#            print 'k:',k, ' Change (Proximal) = ', Dobj, ' Change (Accelerated Proximal) = ',Dobj_acc\n",
        "#            pp.title('-log of change in Objective Functions (Blue = PGD, Red = Accelerated PGD)')        \n",
        "  pp.draw()\n",
        "  pp.pause(0.1)        \n",
        "\n",
        "pp.show()"
      ],
      "metadata": {
        "id": "jYd-1mhdln4d",
        "colab": {
          "base_uri": "https://localhost:8080/",
          "height": 768
        },
        "outputId": "17235e8e-ecf4-4432-e070-49fc2a38a627"
      },
      "execution_count": null,
      "outputs": [
        {
          "output_type": "display_data",
          "data": {
            "text/plain": [
              "<Figure size 432x720 with 4 Axes>"
            ],
            "image/png": "[encoded data removed]"
          },
          "metadata": {
            "needs_background": "light"
          }
        },
        {
          "output_type": "display_data",
          "data": {
            "text/plain": [
              "<Figure size 432x288 with 1 Axes>"
            ],
            "image/png": "[encoded data removed]"
          },
          "metadata": {
            "needs_background": "light"
          }
        }
      ]
    }
  ]
}